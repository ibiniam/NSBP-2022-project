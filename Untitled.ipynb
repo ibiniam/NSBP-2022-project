{
 "cells": [
  {
   "cell_type": "code",
   "execution_count": 2,
   "id": "1b94c773-ff92-40da-9d66-9f94e3a37f05",
   "metadata": {},
   "outputs": [],
   "source": [
    "import classy as cl\n",
    "import numpy as np\n",
    "import matplotlib as plt"
   ]
  },
  {
   "cell_type": "code",
   "execution_count": null,
   "id": "f2406e7b-5e86-40da-8756-c154336ec1d2",
   "metadata": {},
   "outputs": [],
   "source": []
  }
 ],
 "metadata": {
  "kernelspec": {
   "display_name": "Python 3 (ipykernel)",
   "language": "python",
   "name": "python3"
  },
  "language_info": {
   "codemirror_mode": {
    "name": "ipython",
    "version": 3
   },
   "file_extension": ".py",
   "mimetype": "text/x-python",
   "name": "python",
   "nbconvert_exporter": "python",
   "pygments_lexer": "ipython3",
   "version": "3.10.4"
  }
 },
 "nbformat": 4,
 "nbformat_minor": 5
}
