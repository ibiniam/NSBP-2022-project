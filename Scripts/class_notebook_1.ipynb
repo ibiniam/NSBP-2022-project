{
 "cells": [
  {
   "cell_type": "code",
   "execution_count": 11,
   "id": "f45f4121-e0d4-4390-9aa3-bc184d892277",
   "metadata": {},
   "outputs": [],
   "source": [
    "import numpy as np\n",
    "import matplotlib.pyplot as plt\n",
    "import scipy as sp"
   ]
  },
  {
   "cell_type": "code",
   "execution_count": 12,
   "id": "8604fab2-8ef9-4e23-b0c9-0012ab5f3f09",
   "metadata": {},
   "outputs": [
    {
     "data": {
      "text/plain": [
       "<module 'classy' from '/opt/miniconda3/envs/CosmoLab2/lib/python3.8/site-packages/classy-3.2.0-py3.8-macosx-11.1-arm64.egg/classy.cpython-38-darwin.so'>"
      ]
     },
     "execution_count": 12,
     "metadata": {},
     "output_type": "execute_result"
    }
   ],
   "source": [
    "#from class import class\n",
    "from classy import Class\n",
    "classy"
   ]
  },
  {
   "cell_type": "code",
   "execution_count": 13,
   "id": "9cfe238f-300d-4437-bb1b-a166b82f4a6c",
   "metadata": {},
   "outputs": [],
   "source": [
    "lcdm_settings = {'output' : 'tCl,pCl,lCl',\n",
    "                 'lensing':'yes',\n",
    "                 'h':0.7,\n",
    "                 'omega_b':0.03,\n",
    "                 'omega_cdm':0.12,\n",
    "                 'n_s':0.9,\n",
    "                 'A_s':2e-9,\n",
    "                 'tau_reio':0.05\n",
    "                }\n",
    "\n",
    "lcdm = Class()\n",
    "lcdm.set(lcdm_settings)\n",
    "lcdm.compute()"
   ]
  },
  {
   "cell_type": "code",
   "execution_count": 14,
   "id": "9a70c729-aaf2-4498-9add-31771440ec1f",
   "metadata": {},
   "outputs": [],
   "source": [
    "cls = lcdm.lensed_cl(2500)\n",
    "\n",
    "ll = cls['ell'][2:]\n",
    "clTT = cls['tt'][2:] \n",
    "clEE = cls['ee'][2:] \n",
    "clPP = cls['pp'][2:]"
   ]
  },
  {
   "cell_type": "code",
   "execution_count": 17,
   "id": "701d1ddd-8daf-43d5-b1ae-9c8251edbf9d",
   "metadata": {},
   "outputs": [
    {
     "data": {
      "text/plain": [
       "[<matplotlib.lines.Line2D at 0x125caa310>]"
      ]
     },
     "execution_count": 17,
     "metadata": {},
     "output_type": "execute_result"
    },
    {
     "data": {
      "image/png": "[encoded data removed]",
      "text/plain": [
       "<Figure size 432x288 with 1 Axes>"
      ]
     },
     "metadata": {
      "needs_background": "light"
     },
     "output_type": "display_data"
    }
   ],
   "source": [
    "plt.figure(1)\n",
    "plt.xscale('log')\n",
    "plt.yscale('linear')\n",
    "plt.xlim(2,2500)\n",
    "plt.xlabel('l')\n",
    "plt.ylabel('TT*l*(l+1)/2pi')\n",
    "plt.plot(ll, clTT*ll*(ll+1)/2./np.pi)"
   ]
  },
  {
   "cell_type": "code",
   "execution_count": null,
   "id": "075ac648-0649-4e02-b44e-e2339943f6d1",
   "metadata": {},
   "outputs": [],
   "source": []
  }
 ],
 "metadata": {
  "kernelspec": {
   "display_name": "Python 3 (ipykernel)",
   "language": "python",
   "name": "python3"
  },
  "language_info": {
   "codemirror_mode": {
    "name": "ipython",
    "version": 3
   },
   "file_extension": ".py",
   "mimetype": "text/x-python",
   "name": "python",
   "nbconvert_exporter": "python",
   "pygments_lexer": "ipython3",
   "version": "3.8.13"
  }
 },
 "nbformat": 4,
 "nbformat_minor": 5
}
